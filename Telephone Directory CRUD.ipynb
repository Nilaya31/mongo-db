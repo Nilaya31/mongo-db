{
 "cells": [
  {
   "cell_type": "code",
   "execution_count": 5,
   "id": "36db161e",
   "metadata": {},
   "outputs": [
    {
     "name": "stdout",
     "output_type": "stream",
     "text": [
      "Requirement already satisfied: pymongo in c:\\users\\admin\\anaconda3\\lib\\site-packages (4.3.2)\n",
      "Requirement already satisfied: dnspython<3.0.0,>=1.16.0 in c:\\users\\admin\\anaconda3\\lib\\site-packages (from pymongo) (2.2.1)\n",
      "Requirement already satisfied: pymongo[srv] in c:\\users\\admin\\anaconda3\\lib\\site-packages (4.3.2)\n",
      "Requirement already satisfied: dnspython<3.0.0,>=1.16.0 in c:\\users\\admin\\anaconda3\\lib\\site-packages (from pymongo[srv]) (2.2.1)\n",
      "Requirement already satisfied: dnspython in c:\\users\\admin\\anaconda3\\lib\\site-packages (2.2.1)\n"
     ]
    }
   ],
   "source": [
    "!pip install pymongo\n",
    "!pip install pymongo[srv]\n",
    "!pip3 install dnspython"
   ]
  },
  {
   "cell_type": "code",
   "execution_count": 6,
   "id": "2b543e67",
   "metadata": {},
   "outputs": [],
   "source": [
    "import pymongo\n",
    "import datetime\n",
    "import json\n",
    "from pymongo import MongoClient"
   ]
  },
  {
   "cell_type": "code",
   "execution_count": 3,
   "id": "e37f7190",
   "metadata": {},
   "outputs": [],
   "source": [
    "client = pymongo.MongoClient('mongodb://127.0.0.1:27017/')"
   ]
  },
  {
   "cell_type": "code",
   "execution_count": 7,
   "id": "a778b65c",
   "metadata": {},
   "outputs": [
    {
     "data": {
      "text/plain": [
       "['admin', 'config', 'local', 'mont', 'neel']"
      ]
     },
     "execution_count": 7,
     "metadata": {},
     "output_type": "execute_result"
    }
   ],
   "source": [
    "db =  client.TelephoneDirectory\n",
    "client.list_database_names()"
   ]
  },
  {
   "cell_type": "code",
   "execution_count": 8,
   "id": "5c9b25cf",
   "metadata": {},
   "outputs": [],
   "source": [
    "mycol = db[\"Telephone directory\"]"
   ]
  },
  {
   "cell_type": "code",
   "execution_count": 9,
   "id": "5a46c3cb",
   "metadata": {},
   "outputs": [
    {
     "data": {
      "text/plain": [
       "pymongo.results.InsertManyResult"
      ]
     },
     "execution_count": 9,
     "metadata": {},
     "output_type": "execute_result"
    }
   ],
   "source": [
    "mydict = [{'Phone_number': '+91 4546766876',\n",
    "  'Place': 'hyderabad',\n",
    "  'name': 'fdgf'},\n",
    " {'Phone_number': '+91 54658768789',\n",
    "  'Place': 'Raichur',\n",
    "  'name': 'tryty'},\n",
    " {'Phone_number': '+91 5678797878',\n",
    "  'Place': 'Attapur',\n",
    "  'name': 'sytyiu'},\n",
    " {'Phone_number': '+91 9080456754',\n",
    "  'Place': 'AzadNagar',\n",
    "  'name': 'ygjhgj'}]\n",
    "\n",
    "x = mycol.insert_many(mydict)\n",
    "type(x)"
   ]
  },
  {
   "cell_type": "code",
   "execution_count": 10,
   "id": "876f24fc",
   "metadata": {},
   "outputs": [
    {
     "data": {
      "text/plain": [
       "[{'_id': ObjectId('6363ae879b6f05db28bdc6d5'),\n",
       "  'Phone_number': '+91 4546766876',\n",
       "  'Place': 'hyderabad',\n",
       "  'name': 'fdgf'},\n",
       " {'_id': ObjectId('6363ae879b6f05db28bdc6d6'),\n",
       "  'Phone_number': '+91 54658768789',\n",
       "  'Place': 'Raichur',\n",
       "  'name': 'tryty'},\n",
       " {'_id': ObjectId('6363ae879b6f05db28bdc6d7'),\n",
       "  'Phone_number': '+91 5678797878',\n",
       "  'Place': 'Attapur',\n",
       "  'name': 'sytyiu'},\n",
       " {'_id': ObjectId('6363ae879b6f05db28bdc6d8'),\n",
       "  'Phone_number': '+91 9080456754',\n",
       "  'Place': 'AzadNagar',\n",
       "  'name': 'ygjhgj'}]"
      ]
     },
     "execution_count": 10,
     "metadata": {},
     "output_type": "execute_result"
    }
   ],
   "source": [
    "y = mycol.find()\n",
    "list(y)"
   ]
  },
  {
   "cell_type": "code",
   "execution_count": 11,
   "id": "46e6091d",
   "metadata": {},
   "outputs": [
    {
     "data": {
      "text/plain": [
       "[{'_id': ObjectId('6363ae879b6f05db28bdc6d7'),\n",
       "  'Phone_number': '+91 5678797878',\n",
       "  'Place': 'Attapur',\n",
       "  'name': 'sytyiu'}]"
      ]
     },
     "execution_count": 11,
     "metadata": {},
     "output_type": "execute_result"
    }
   ],
   "source": [
    "z = mycol.find({'name':'sytyiu'})\n",
    "list(z)"
   ]
  },
  {
   "cell_type": "code",
   "execution_count": 12,
   "id": "7ca29eff",
   "metadata": {},
   "outputs": [
    {
     "data": {
      "text/plain": [
       "[{'_id': ObjectId('6363ae879b6f05db28bdc6d5'),\n",
       "  'Phone_number': '+91 4546766876',\n",
       "  'Place': 'hyderabad',\n",
       "  'name': 'rthnjmj'},\n",
       " {'_id': ObjectId('6363ae879b6f05db28bdc6d6'),\n",
       "  'Phone_number': '+91 54658768789',\n",
       "  'Place': 'Raichur',\n",
       "  'name': 'tryty'},\n",
       " {'_id': ObjectId('6363ae879b6f05db28bdc6d7'),\n",
       "  'Phone_number': '+91 5678797878',\n",
       "  'Place': 'Attapur',\n",
       "  'name': 'sytyiu'},\n",
       " {'_id': ObjectId('6363ae879b6f05db28bdc6d8'),\n",
       "  'Phone_number': '+91 9080456754',\n",
       "  'Place': 'AzadNagar',\n",
       "  'name': 'ygjhgj'}]"
      ]
     },
     "execution_count": 12,
     "metadata": {},
     "output_type": "execute_result"
    }
   ],
   "source": [
    "myquery = { \"name\": \"fdgf\" }\n",
    "newvalues = { \"$set\": { \"name\": \"rthnjmj\" } }\n",
    "update = mycol.update_one(myquery,newvalues)\n",
    "list(mycol.find())"
   ]
  },
  {
   "cell_type": "code",
   "execution_count": 13,
   "id": "5c060a47",
   "metadata": {},
   "outputs": [
    {
     "data": {
      "text/plain": [
       "<pymongo.results.DeleteResult at 0x1f1ab4dd0a0>"
      ]
     },
     "execution_count": 13,
     "metadata": {},
     "output_type": "execute_result"
    }
   ],
   "source": [
    "myquery = { \"name\": \"ygjhgj\" }\n",
    "mycol.delete_one(myquery)"
   ]
  },
  {
   "cell_type": "code",
   "execution_count": 14,
   "id": "4252b8e0",
   "metadata": {},
   "outputs": [
    {
     "data": {
      "text/plain": [
       "[{'_id': ObjectId('6363ae879b6f05db28bdc6d5'),\n",
       "  'Phone_number': '+91 4546766876',\n",
       "  'Place': 'hyderabad',\n",
       "  'name': 'rthnjmj'},\n",
       " {'_id': ObjectId('6363ae879b6f05db28bdc6d6'),\n",
       "  'Phone_number': '+91 54658768789',\n",
       "  'Place': 'Raichur',\n",
       "  'name': 'tryty'},\n",
       " {'_id': ObjectId('6363ae879b6f05db28bdc6d7'),\n",
       "  'Phone_number': '+91 5678797878',\n",
       "  'Place': 'Attapur',\n",
       "  'name': 'sytyiu'}]"
      ]
     },
     "execution_count": 14,
     "metadata": {},
     "output_type": "execute_result"
    }
   ],
   "source": [
    "list(mycol.find())"
   ]
  },
  {
   "cell_type": "code",
   "execution_count": null,
   "id": "4d5b36db",
   "metadata": {},
   "outputs": [],
   "source": []
  }
 ],
 "metadata": {
  "kernelspec": {
   "display_name": "Python 3 (ipykernel)",
   "language": "python",
   "name": "python3"
  },
  "language_info": {
   "codemirror_mode": {
    "name": "ipython",
    "version": 3
   },
   "file_extension": ".py",
   "mimetype": "text/x-python",
   "name": "python",
   "nbconvert_exporter": "python",
   "pygments_lexer": "ipython3",
   "version": "3.9.13"
  }
 },
 "nbformat": 4,
 "nbformat_minor": 5
}
